{
 "cells": [
  {
   "cell_type": "code",
   "execution_count": 8,
   "id": "6af5eabe-90c3-4dc2-8286-e66719441932",
   "metadata": {},
   "outputs": [],
   "source": [
    "import numpy as np\n",
    "import pandas as pd\n",
    "\n",
    "from sklearn.preprocessing import PolynomialFeatures\n",
    "from sklearn.linear_model import LinearRegression"
   ]
  },
  {
   "cell_type": "code",
   "execution_count": 9,
   "id": "6b6cfb07-02eb-4d65-8bb2-c2ec11f71a62",
   "metadata": {},
   "outputs": [],
   "source": [
    "# Given data\n",
    "x = np.array([[1], [2], [3], [4]])  # Input values\n",
    "y = np.array([2, 6, 9, 16])          # Output values"
   ]
  },
  {
   "cell_type": "code",
   "execution_count": 10,
   "id": "66406bb3-0ea2-4d12-86c6-fd61f822cc31",
   "metadata": {},
   "outputs": [
    {
     "name": "stdout",
     "output_type": "stream",
     "text": [
      "[[1]\n",
      " [2]\n",
      " [3]\n",
      " [4]]\n"
     ]
    }
   ],
   "source": [
    "print(x)"
   ]
  },
  {
   "cell_type": "code",
   "execution_count": 11,
   "id": "d919ac1b-0436-43ba-b95c-7d85692cf0cc",
   "metadata": {},
   "outputs": [
    {
     "name": "stdout",
     "output_type": "stream",
     "text": [
      "[ 2  6  9 16]\n"
     ]
    }
   ],
   "source": [
    "print(y)"
   ]
  },
  {
   "cell_type": "markdown",
   "id": "fc1e8520-5174-486b-aa62-651ce2e57ba1",
   "metadata": {},
   "source": []
  }
 ],
 "metadata": {
  "kernelspec": {
   "display_name": "Python 3 (ipykernel)",
   "language": "python",
   "name": "python3"
  },
  "language_info": {
   "codemirror_mode": {
    "name": "ipython",
    "version": 3
   },
   "file_extension": ".py",
   "mimetype": "text/x-python",
   "name": "python",
   "nbconvert_exporter": "python",
   "pygments_lexer": "ipython3",
   "version": "3.13.1"
  }
 },
 "nbformat": 4,
 "nbformat_minor": 5
}
